{
  "nbformat": 4,
  "nbformat_minor": 0,
  "metadata": {
    "colab": {
      "provenance": [],
      "authorship_tag": "ABX9TyOGvZV77znCWPJkkO3GS2pl",
      "include_colab_link": true
    },
    "kernelspec": {
      "name": "python3",
      "display_name": "Python 3"
    },
    "language_info": {
      "name": "python"
    }
  },
  "cells": [
    {
      "cell_type": "markdown",
      "metadata": {
        "id": "view-in-github",
        "colab_type": "text"
      },
      "source": [
        "<a href=\"https://colab.research.google.com/github/samarth-web/Big_Data_Project/blob/main/big_data.ipynb\" target=\"_parent\"><img src=\"https://colab.research.google.com/assets/colab-badge.svg\" alt=\"Open In Colab\"/></a>"
      ]
    },
    {
      "cell_type": "code",
      "execution_count": null,
      "metadata": {
        "id": "N5RLFpvyP4AX"
      },
      "outputs": [],
      "source": [
        "!pip install -q pyspark pandas matplotlib\n"
      ]
    },
    {
      "cell_type": "code",
      "source": [
        "from google.colab import files\n",
        "files.upload()"
      ],
      "metadata": {
        "colab": {
          "base_uri": "https://localhost:8080/",
          "height": 92
        },
        "collapsed": true,
        "id": "2Yb0KHh7esWL",
        "outputId": "35d4fb2b-3ec4-45cf-c47d-a8867076d029"
      },
      "execution_count": 2,
      "outputs": [
        {
          "output_type": "display_data",
          "data": {
            "text/plain": [
              "<IPython.core.display.HTML object>"
            ],
            "text/html": [
              "\n",
              "     <input type=\"file\" id=\"files-556dd845-e6a4-414e-b06a-165c8c238a98\" name=\"files[]\" multiple disabled\n",
              "        style=\"border:none\" />\n",
              "     <output id=\"result-556dd845-e6a4-414e-b06a-165c8c238a98\">\n",
              "      Upload widget is only available when the cell has been executed in the\n",
              "      current browser session. Please rerun this cell to enable.\n",
              "      </output>\n",
              "      <script>// Copyright 2017 Google LLC\n",
              "//\n",
              "// Licensed under the Apache License, Version 2.0 (the \"License\");\n",
              "// you may not use this file except in compliance with the License.\n",
              "// You may obtain a copy of the License at\n",
              "//\n",
              "//      http://www.apache.org/licenses/LICENSE-2.0\n",
              "//\n",
              "// Unless required by applicable law or agreed to in writing, software\n",
              "// distributed under the License is distributed on an \"AS IS\" BASIS,\n",
              "// WITHOUT WARRANTIES OR CONDITIONS OF ANY KIND, either express or implied.\n",
              "// See the License for the specific language governing permissions and\n",
              "// limitations under the License.\n",
              "\n",
              "/**\n",
              " * @fileoverview Helpers for google.colab Python module.\n",
              " */\n",
              "(function(scope) {\n",
              "function span(text, styleAttributes = {}) {\n",
              "  const element = document.createElement('span');\n",
              "  element.textContent = text;\n",
              "  for (const key of Object.keys(styleAttributes)) {\n",
              "    element.style[key] = styleAttributes[key];\n",
              "  }\n",
              "  return element;\n",
              "}\n",
              "\n",
              "// Max number of bytes which will be uploaded at a time.\n",
              "const MAX_PAYLOAD_SIZE = 100 * 1024;\n",
              "\n",
              "function _uploadFiles(inputId, outputId) {\n",
              "  const steps = uploadFilesStep(inputId, outputId);\n",
              "  const outputElement = document.getElementById(outputId);\n",
              "  // Cache steps on the outputElement to make it available for the next call\n",
              "  // to uploadFilesContinue from Python.\n",
              "  outputElement.steps = steps;\n",
              "\n",
              "  return _uploadFilesContinue(outputId);\n",
              "}\n",
              "\n",
              "// This is roughly an async generator (not supported in the browser yet),\n",
              "// where there are multiple asynchronous steps and the Python side is going\n",
              "// to poll for completion of each step.\n",
              "// This uses a Promise to block the python side on completion of each step,\n",
              "// then passes the result of the previous step as the input to the next step.\n",
              "function _uploadFilesContinue(outputId) {\n",
              "  const outputElement = document.getElementById(outputId);\n",
              "  const steps = outputElement.steps;\n",
              "\n",
              "  const next = steps.next(outputElement.lastPromiseValue);\n",
              "  return Promise.resolve(next.value.promise).then((value) => {\n",
              "    // Cache the last promise value to make it available to the next\n",
              "    // step of the generator.\n",
              "    outputElement.lastPromiseValue = value;\n",
              "    return next.value.response;\n",
              "  });\n",
              "}\n",
              "\n",
              "/**\n",
              " * Generator function which is called between each async step of the upload\n",
              " * process.\n",
              " * @param {string} inputId Element ID of the input file picker element.\n",
              " * @param {string} outputId Element ID of the output display.\n",
              " * @return {!Iterable<!Object>} Iterable of next steps.\n",
              " */\n",
              "function* uploadFilesStep(inputId, outputId) {\n",
              "  const inputElement = document.getElementById(inputId);\n",
              "  inputElement.disabled = false;\n",
              "\n",
              "  const outputElement = document.getElementById(outputId);\n",
              "  outputElement.innerHTML = '';\n",
              "\n",
              "  const pickedPromise = new Promise((resolve) => {\n",
              "    inputElement.addEventListener('change', (e) => {\n",
              "      resolve(e.target.files);\n",
              "    });\n",
              "  });\n",
              "\n",
              "  const cancel = document.createElement('button');\n",
              "  inputElement.parentElement.appendChild(cancel);\n",
              "  cancel.textContent = 'Cancel upload';\n",
              "  const cancelPromise = new Promise((resolve) => {\n",
              "    cancel.onclick = () => {\n",
              "      resolve(null);\n",
              "    };\n",
              "  });\n",
              "\n",
              "  // Wait for the user to pick the files.\n",
              "  const files = yield {\n",
              "    promise: Promise.race([pickedPromise, cancelPromise]),\n",
              "    response: {\n",
              "      action: 'starting',\n",
              "    }\n",
              "  };\n",
              "\n",
              "  cancel.remove();\n",
              "\n",
              "  // Disable the input element since further picks are not allowed.\n",
              "  inputElement.disabled = true;\n",
              "\n",
              "  if (!files) {\n",
              "    return {\n",
              "      response: {\n",
              "        action: 'complete',\n",
              "      }\n",
              "    };\n",
              "  }\n",
              "\n",
              "  for (const file of files) {\n",
              "    const li = document.createElement('li');\n",
              "    li.append(span(file.name, {fontWeight: 'bold'}));\n",
              "    li.append(span(\n",
              "        `(${file.type || 'n/a'}) - ${file.size} bytes, ` +\n",
              "        `last modified: ${\n",
              "            file.lastModifiedDate ? file.lastModifiedDate.toLocaleDateString() :\n",
              "                                    'n/a'} - `));\n",
              "    const percent = span('0% done');\n",
              "    li.appendChild(percent);\n",
              "\n",
              "    outputElement.appendChild(li);\n",
              "\n",
              "    const fileDataPromise = new Promise((resolve) => {\n",
              "      const reader = new FileReader();\n",
              "      reader.onload = (e) => {\n",
              "        resolve(e.target.result);\n",
              "      };\n",
              "      reader.readAsArrayBuffer(file);\n",
              "    });\n",
              "    // Wait for the data to be ready.\n",
              "    let fileData = yield {\n",
              "      promise: fileDataPromise,\n",
              "      response: {\n",
              "        action: 'continue',\n",
              "      }\n",
              "    };\n",
              "\n",
              "    // Use a chunked sending to avoid message size limits. See b/62115660.\n",
              "    let position = 0;\n",
              "    do {\n",
              "      const length = Math.min(fileData.byteLength - position, MAX_PAYLOAD_SIZE);\n",
              "      const chunk = new Uint8Array(fileData, position, length);\n",
              "      position += length;\n",
              "\n",
              "      const base64 = btoa(String.fromCharCode.apply(null, chunk));\n",
              "      yield {\n",
              "        response: {\n",
              "          action: 'append',\n",
              "          file: file.name,\n",
              "          data: base64,\n",
              "        },\n",
              "      };\n",
              "\n",
              "      let percentDone = fileData.byteLength === 0 ?\n",
              "          100 :\n",
              "          Math.round((position / fileData.byteLength) * 100);\n",
              "      percent.textContent = `${percentDone}% done`;\n",
              "\n",
              "    } while (position < fileData.byteLength);\n",
              "  }\n",
              "\n",
              "  // All done.\n",
              "  yield {\n",
              "    response: {\n",
              "      action: 'complete',\n",
              "    }\n",
              "  };\n",
              "}\n",
              "\n",
              "scope.google = scope.google || {};\n",
              "scope.google.colab = scope.google.colab || {};\n",
              "scope.google.colab._files = {\n",
              "  _uploadFiles,\n",
              "  _uploadFilesContinue,\n",
              "};\n",
              "})(self);\n",
              "</script> "
            ]
          },
          "metadata": {}
        },
        {
          "output_type": "stream",
          "name": "stdout",
          "text": [
            "Saving kaggle.json to kaggle.json\n"
          ]
        },
        {
          "output_type": "execute_result",
          "data": {
            "text/plain": [
              "{'kaggle.json': b'{\"username\":\"samarthj204\",\"key\":\"543cc1df9b5aa7879c6f8d0117abab12\"}'}"
            ]
          },
          "metadata": {},
          "execution_count": 2
        }
      ]
    },
    {
      "cell_type": "code",
      "source": [],
      "metadata": {
        "id": "FvptMJoieoPr"
      },
      "execution_count": 2,
      "outputs": []
    },
    {
      "cell_type": "code",
      "source": [
        "!mkdir -p ~/.kaggle\n",
        "!cp kaggle.json ~/.kaggle/\n",
        "!chmod 600 ~/.kaggle/kaggle.json\n",
        "\n"
      ],
      "metadata": {
        "id": "qaf3prMWfs8S"
      },
      "execution_count": 3,
      "outputs": []
    },
    {
      "cell_type": "code",
      "source": [],
      "metadata": {
        "id": "o7XwUoHnGYGM"
      },
      "execution_count": 3,
      "outputs": []
    },
    {
      "cell_type": "code",
      "source": [
        "!kaggle datasets download maharshipandya/-spotify-tracks-dataset\n"
      ],
      "metadata": {
        "colab": {
          "base_uri": "https://localhost:8080/"
        },
        "id": "azRSHmtBf0Ao",
        "outputId": "33a73036-97ba-4755-a018-621d86690287"
      },
      "execution_count": 4,
      "outputs": [
        {
          "output_type": "stream",
          "name": "stdout",
          "text": [
            "Dataset URL: https://www.kaggle.com/datasets/maharshipandya/-spotify-tracks-dataset\n",
            "License(s): ODbL-1.0\n",
            "Downloading -spotify-tracks-dataset.zip to /content\n",
            "  0% 0.00/8.17M [00:00<?, ?B/s]\n",
            "100% 8.17M/8.17M [00:00<00:00, 598MB/s]\n"
          ]
        }
      ]
    },
    {
      "cell_type": "code",
      "source": [
        "!unzip /content/-spotify-tracks-dataset.zip -d spotify_data\n"
      ],
      "metadata": {
        "colab": {
          "base_uri": "https://localhost:8080/"
        },
        "id": "g8KBE4hwg8R2",
        "outputId": "7aa0091f-a0fc-4ee9-9c27-e5d8a5eff025"
      },
      "execution_count": 5,
      "outputs": [
        {
          "output_type": "stream",
          "name": "stdout",
          "text": [
            "Archive:  /content/-spotify-tracks-dataset.zip\n",
            "  inflating: spotify_data/dataset.csv  \n"
          ]
        }
      ]
    },
    {
      "cell_type": "code",
      "source": [
        "from pyspark.sql import SparkSession\n",
        "\n",
        "spark = (SparkSession.builder.appName(\"SpotifySparkHive\").config(\"spark.sql.warehouse.dir\", \"./spark_warehouse\").enableHiveSupport().getOrCreate())\n",
        "spark"
      ],
      "metadata": {
        "colab": {
          "base_uri": "https://localhost:8080/",
          "height": 221
        },
        "id": "84WXLIV3QRrW",
        "outputId": "2ecc00bc-60ab-4a59-8f6c-fb66d6ec1503"
      },
      "execution_count": 6,
      "outputs": [
        {
          "output_type": "execute_result",
          "data": {
            "text/plain": [
              "<pyspark.sql.session.SparkSession at 0x7a8513167bc0>"
            ],
            "text/html": [
              "\n",
              "            <div>\n",
              "                <p><b>SparkSession - hive</b></p>\n",
              "                \n",
              "        <div>\n",
              "            <p><b>SparkContext</b></p>\n",
              "\n",
              "            <p><a href=\"http://b87a0c5a223f:4040\">Spark UI</a></p>\n",
              "\n",
              "            <dl>\n",
              "              <dt>Version</dt>\n",
              "                <dd><code>v3.5.1</code></dd>\n",
              "              <dt>Master</dt>\n",
              "                <dd><code>local[*]</code></dd>\n",
              "              <dt>AppName</dt>\n",
              "                <dd><code>SpotifySparkHive</code></dd>\n",
              "            </dl>\n",
              "        </div>\n",
              "        \n",
              "            </div>\n",
              "        "
            ]
          },
          "metadata": {},
          "execution_count": 6
        }
      ]
    },
    {
      "cell_type": "code",
      "source": [
        "spark.sql(\"CREATE DATABASE IF NOT EXISTS spotify_music\")\n",
        "spark.sql(\"USE spotify_music\")\n",
        "spark.sql(\"SHOW DATABASES\")"
      ],
      "metadata": {
        "colab": {
          "base_uri": "https://localhost:8080/"
        },
        "id": "lP0tHfaZweeI",
        "outputId": "696582b3-e330-4113-b483-a0fb1f4a1687"
      },
      "execution_count": 7,
      "outputs": [
        {
          "output_type": "execute_result",
          "data": {
            "text/plain": [
              "DataFrame[namespace: string]"
            ]
          },
          "metadata": {},
          "execution_count": 7
        }
      ]
    },
    {
      "cell_type": "code",
      "source": [
        "path = \"spotify_data/dataset.csv\"\n",
        "\n",
        "sp_read = spark.read.option(\"header\", True).option(\"inferSchema\", True).csv(path)\n"
      ],
      "metadata": {
        "id": "yi2XzCAoxB02"
      },
      "execution_count": 8,
      "outputs": []
    },
    {
      "cell_type": "code",
      "source": [
        "sp_read.printSchema()"
      ],
      "metadata": {
        "colab": {
          "base_uri": "https://localhost:8080/"
        },
        "id": "Yf99u4c_xjID",
        "outputId": "9c2a7be4-3e83-4b38-dc2d-acb50888910b"
      },
      "execution_count": 9,
      "outputs": [
        {
          "output_type": "stream",
          "name": "stdout",
          "text": [
            "root\n",
            " |-- _c0: integer (nullable = true)\n",
            " |-- track_id: string (nullable = true)\n",
            " |-- artists: string (nullable = true)\n",
            " |-- album_name: string (nullable = true)\n",
            " |-- track_name: string (nullable = true)\n",
            " |-- popularity: string (nullable = true)\n",
            " |-- duration_ms: string (nullable = true)\n",
            " |-- explicit: string (nullable = true)\n",
            " |-- danceability: string (nullable = true)\n",
            " |-- energy: string (nullable = true)\n",
            " |-- key: string (nullable = true)\n",
            " |-- loudness: string (nullable = true)\n",
            " |-- mode: string (nullable = true)\n",
            " |-- speechiness: string (nullable = true)\n",
            " |-- acousticness: string (nullable = true)\n",
            " |-- instrumentalness: double (nullable = true)\n",
            " |-- liveness: string (nullable = true)\n",
            " |-- valence: string (nullable = true)\n",
            " |-- tempo: double (nullable = true)\n",
            " |-- time_signature: double (nullable = true)\n",
            " |-- track_genre: string (nullable = true)\n",
            "\n"
          ]
        }
      ]
    },
    {
      "cell_type": "code",
      "source": [
        "sp_read.write.mode(\"overwrite\").saveAsTable(\"spotify_tracks\")"
      ],
      "metadata": {
        "id": "nPAGclg_zXkQ"
      },
      "execution_count": 10,
      "outputs": []
    },
    {
      "cell_type": "code",
      "source": [
        "spark.sql(\"SHOW TABLES\").show()"
      ],
      "metadata": {
        "colab": {
          "base_uri": "https://localhost:8080/"
        },
        "id": "dFqc5peNztWe",
        "outputId": "ae795bb6-32df-4dc2-8594-76ffab3e5042"
      },
      "execution_count": 11,
      "outputs": [
        {
          "output_type": "stream",
          "name": "stdout",
          "text": [
            "+-------------+--------------+-----------+\n",
            "|    namespace|     tableName|isTemporary|\n",
            "+-------------+--------------+-----------+\n",
            "|spotify_music|spotify_tracks|      false|\n",
            "+-------------+--------------+-----------+\n",
            "\n"
          ]
        }
      ]
    },
    {
      "cell_type": "code",
      "source": [
        "spark.sql(\"SELECT * FROM spotify_tracks LIMIT 5\")"
      ],
      "metadata": {
        "colab": {
          "base_uri": "https://localhost:8080/"
        },
        "id": "h6HGUYpZ1gKO",
        "outputId": "11466487-8566-45a0-85d7-e5b896c9f3ce"
      },
      "execution_count": 12,
      "outputs": [
        {
          "output_type": "execute_result",
          "data": {
            "text/plain": [
              "DataFrame[_c0: int, track_id: string, artists: string, album_name: string, track_name: string, popularity: string, duration_ms: string, explicit: string, danceability: string, energy: string, key: string, loudness: string, mode: string, speechiness: string, acousticness: string, instrumentalness: double, liveness: string, valence: string, tempo: double, time_signature: double, track_genre: string]"
            ]
          },
          "metadata": {},
          "execution_count": 12
        }
      ]
    },
    {
      "cell_type": "markdown",
      "source": [
        "**Exploratory Data Analysis**"
      ],
      "metadata": {
        "id": "W5SxtXCe3EPr"
      }
    },
    {
      "cell_type": "markdown",
      "source": [
        "1.) Average Dancibility of all Songs"
      ],
      "metadata": {
        "id": "MTIf_Icz2s55"
      }
    },
    {
      "cell_type": "code",
      "source": [
        "spark.sql(\"SELECT AVG(danceability) as avg_dance FROM spotify_tracks\").show()"
      ],
      "metadata": {
        "colab": {
          "base_uri": "https://localhost:8080/"
        },
        "id": "9EeFBQZi11gV",
        "outputId": "3e3c2a95-2754-4237-d053-f348e74292d9"
      },
      "execution_count": 13,
      "outputs": [
        {
          "output_type": "stream",
          "name": "stdout",
          "text": [
            "+------------------+\n",
            "|         avg_dance|\n",
            "+------------------+\n",
            "|31.798216588376423|\n",
            "+------------------+\n",
            "\n"
          ]
        }
      ]
    },
    {
      "cell_type": "markdown",
      "source": [
        "2.) Average Dancibility of songs by genre\n"
      ],
      "metadata": {
        "id": "hLeDnISP3MYO"
      }
    },
    {
      "cell_type": "code",
      "source": [
        "from pyspark.sql import functions as F\n",
        "numeric_cols = [\n",
        "    \"popularity\", \"duration_ms\", \"danceability\", \"energy\",\n",
        "    \"loudness\", \"speechiness\", \"acousticness\",\n",
        "    \"liveness\", \"valence\", \"tempo\"\n",
        "]\n",
        "sp_new = sp_read\n",
        "\n",
        "for col in numeric_cols:\n",
        "  sp_new = sp_new.withColumn(col,F.col(col).cast(\"double\"))\n",
        "\n",
        "\n",
        "spark.sql(\"CREATE DATABASE IF NOT EXISTS spotify_music\")\n",
        "spark.sql(\"USE spotify_music\")\n",
        "sp_new.write.mode(\"overwrite\").saveAsTable(\"spotify_tracks\")\n"
      ],
      "metadata": {
        "id": "9ihP8MK9c4Xs"
      },
      "execution_count": 33,
      "outputs": []
    },
    {
      "cell_type": "code",
      "source": [
        "spark.table(\"spotify_tracks\")"
      ],
      "metadata": {
        "colab": {
          "base_uri": "https://localhost:8080/"
        },
        "id": "sQ97lQ68ln_e",
        "outputId": "c4102f6d-68da-47b7-ff4d-b866e72d2582"
      },
      "execution_count": 34,
      "outputs": [
        {
          "output_type": "execute_result",
          "data": {
            "text/plain": [
              "DataFrame[_c0: int, track_id: string, artists: string, album_name: string, track_name: string, popularity: double, duration_ms: double, explicit: string, danceability: double, energy: double, key: string, loudness: double, mode: string, speechiness: double, acousticness: double, instrumentalness: double, liveness: double, valence: double, tempo: double, time_signature: double, track_genre: string]"
            ]
          },
          "metadata": {},
          "execution_count": 34
        }
      ]
    },
    {
      "cell_type": "code",
      "source": [
        "spark.sql(\"\"\"\n",
        "SELECT track_genre, ROUND(AVG(danceability),3) AS avg_dance, COUNT(*) AS n\n",
        "FROM spotify_tracks\n",
        "WHERE track_genre NOT RLIKE '^[0-9.\\\\-]+$'\n",
        "GROUP BY track_genre\n",
        "ORDER BY avg_dance DESC\n",
        "\"\"\").show(truncate=False)"
      ],
      "metadata": {
        "colab": {
          "base_uri": "https://localhost:8080/"
        },
        "id": "-Ks4OfUAGZuh",
        "outputId": "671901cd-bd70-4607-b5e7-3f8256fd0be9"
      },
      "execution_count": 16,
      "outputs": [
        {
          "output_type": "stream",
          "name": "stdout",
          "text": [
            "+--------------+---------+----+\n",
            "|track_genre   |avg_dance|n   |\n",
            "+--------------+---------+----+\n",
            "|kids          |0.779    |1000|\n",
            "|chicago-house |0.766    |999 |\n",
            "|reggaeton     |0.759    |1000|\n",
            "|latino        |0.757    |1000|\n",
            "|reggae        |0.745    |1000|\n",
            "|hip-hop       |0.736    |1000|\n",
            "|dancehall     |0.734    |1000|\n",
            "|minimal-techno|0.729    |1000|\n",
            "|detroit-techno|0.723    |1000|\n",
            "|latin         |0.722    |1000|\n",
            "|children      |0.716    |1000|\n",
            "|deep-house    |0.71     |1000|\n",
            "|sad           |0.692    |1000|\n",
            "|dance         |0.688    |1000|\n",
            "|study         |0.685    |1000|\n",
            "|techno        |0.684    |1000|\n",
            "|j-dance       |0.681    |1000|\n",
            "|funk          |0.678    |1000|\n",
            "|disco         |0.677    |1000|\n",
            "|afrobeat      |0.67     |1000|\n",
            "+--------------+---------+----+\n",
            "only showing top 20 rows\n",
            "\n"
          ]
        }
      ]
    },
    {
      "cell_type": "markdown",
      "source": [
        "3.) Energy by genre"
      ],
      "metadata": {
        "id": "6T3Ful1DdY9D"
      }
    },
    {
      "cell_type": "code",
      "source": [
        "q2 = spark.sql(\"\"\"\n",
        "SELECT track_genre,\n",
        "       ROUND(AVG(energy),3) AS avg_energy,\n",
        "       COUNT(*) AS n\n",
        "FROM spotify_tracks\n",
        "WHERE track_genre NOT RLIKE '^[0-9.\\\\-]+$'\n",
        "GROUP BY track_genre\n",
        "HAVING n >= 100\n",
        "ORDER BY avg_energy DESC\n",
        "LIMIT 10\n",
        "\"\"\")\n",
        "q2.show(truncate=False)\n",
        "\n",
        "pdf2 = q2.toPandas()\n",
        "pdf2.plot(kind=\"barh\", x=\"track_genre\", y=\"avg_energy\",\n",
        "          title=\"Top 10 Genres by Energy\", figsize=(8,5), color=\"orange\")"
      ],
      "metadata": {
        "colab": {
          "base_uri": "https://localhost:8080/",
          "height": 754
        },
        "id": "RiI3co7Xdde1",
        "outputId": "6542af56-665f-40b8-f87d-fb7e4c2e6380"
      },
      "execution_count": 38,
      "outputs": [
        {
          "output_type": "stream",
          "name": "stdout",
          "text": [
            "+-------------+----------+----+\n",
            "|track_genre  |avg_energy|n   |\n",
            "+-------------+----------+----+\n",
            "|death-metal  |0.931     |1000|\n",
            "|grindcore    |0.924     |1000|\n",
            "|metalcore    |0.914     |1000|\n",
            "|happy        |0.911     |1000|\n",
            "|hardstyle    |0.901     |1000|\n",
            "|drum-and-bass|0.877     |1000|\n",
            "|black-metal  |0.875     |1000|\n",
            "|heavy-metal  |0.874     |1000|\n",
            "|party        |0.871     |1000|\n",
            "|j-idol       |0.869     |1000|\n",
            "+-------------+----------+----+\n",
            "\n"
          ]
        },
        {
          "output_type": "execute_result",
          "data": {
            "text/plain": [
              "<Axes: title={'center': 'Top 10 Genres by Energy'}, ylabel='track_genre'>"
            ]
          },
          "metadata": {},
          "execution_count": 38
        },
        {
          "output_type": "display_data",
          "data": {
            "text/plain": [
              "<Figure size 800x500 with 1 Axes>"
            ],
            "image/png": "[encoded data removed]"
          },
          "metadata": {}
        }
      ]
    },
    {
      "cell_type": "markdown",
      "source": [
        "**Machine Learning - Predicting Genre of the Track**"
      ],
      "metadata": {
        "id": "q_PgYd8hH-Wn"
      }
    },
    {
      "cell_type": "code",
      "source": [
        "from pyspark.ml.feature import VectorAssembler, StringIndexer\n",
        "from pyspark.ml.classification import RandomForestClassifier\n",
        "from pyspark.ml.evaluation import MulticlassClassificationEvaluator\n",
        "from pyspark.sql import functions as F\n",
        "#the below steps are needed as to do ML on spark, there has to be a label column with numerical datatypes and all the features have to be combined into one column named 'features'"
      ],
      "metadata": {
        "id": "v6Dbr1WgIHAA"
      },
      "execution_count": 17,
      "outputs": []
    },
    {
      "cell_type": "code",
      "source": [
        "indexer = StringIndexer(inputCol=\"track_genre\", outputCol=\"label\", handleInvalid=\"skip\") #converts the track_genre into a numerical label\n",
        "indexed_df = indexer.fit(sp_new).transform(sp_new)\n"
      ],
      "metadata": {
        "id": "7-aOVhkwd6B6"
      },
      "execution_count": 18,
      "outputs": []
    },
    {
      "cell_type": "code",
      "source": [
        "feature_cols = [\"danceability\",\"energy\",\"loudness\",\"speechiness\",\n",
        "                \"acousticness\",\"instrumentalness\",\"liveness\",\"valence\",\n",
        "                \"tempo\",\"popularity\",\"duration_ms\"]\n",
        "\n",
        "# Drop rows with nulls in feature columns from the original DataFrame before assembling features\n",
        "indexed_df_cleaned = indexed_df.na.drop(subset=feature_cols)\n",
        "\n",
        "assembler = VectorAssembler(inputCols=feature_cols,outputCol='features')\n",
        "sp_ml = assembler.transform(indexed_df_cleaned).select('features','label')"
      ],
      "metadata": {
        "id": "aefj_AWUepgI"
      },
      "execution_count": 19,
      "outputs": []
    },
    {
      "cell_type": "code",
      "source": [
        "# Split the cleaned and assembled data\n",
        "train, test = sp_ml.randomSplit([0.7,0.3], seed = 42)"
      ],
      "metadata": {
        "id": "5ZR3xaHWgcig"
      },
      "execution_count": 20,
      "outputs": []
    },
    {
      "cell_type": "code",
      "source": [
        "rf = RandomForestClassifier(featuresCol='features', labelCol='label',numTrees=200, seed=42)\n",
        "# Drop rows with nulls from the training data before fitting the model\n",
        "train_cleaned = train.na.drop()\n",
        "model = rf.fit(train_cleaned)\n",
        "pred = model.transform(test)"
      ],
      "metadata": {
        "id": "0bP5xGcRhj5S"
      },
      "execution_count": 21,
      "outputs": []
    },
    {
      "cell_type": "code",
      "source": [
        "acc = MulticlassClassificationEvaluator(metricName='accuracy').evaluate(pred)\n",
        "f1 = MulticlassClassificationEvaluator(metricName='f1').evaluate(pred)\n",
        "print(f\"Accuracy: {acc}\\nF1 Score: {f1}\")"
      ],
      "metadata": {
        "colab": {
          "base_uri": "https://localhost:8080/"
        },
        "id": "dy2sNzrui1k2",
        "outputId": "218970a6-17e6-4e04-a196-cb1193dbb195"
      },
      "execution_count": 22,
      "outputs": [
        {
          "output_type": "stream",
          "name": "stdout",
          "text": [
            "Accuracy: 0.1857624139446316\n",
            "F1 Score: 0.13247883773585348\n"
          ]
        }
      ]
    },
    {
      "cell_type": "markdown",
      "source": [
        "Full multi-class classification with 100+ fine-grained genres achieved 18% accuracy, which is significantly above random baseline of 1%. This highlights the difficulty of distinguishing niche genres from limited audio features."
      ],
      "metadata": {
        "id": "n9JX9ioYTjmC"
      }
    },
    {
      "cell_type": "code",
      "source": [
        "\n",
        "df = sp_new\n",
        "\n",
        "df = df.withColumn(\"is_pop\", (F.col(\"track_genre\") == \"pop\").cast(\"int\"))\n",
        "feature_cols = [\"danceability\",\"energy\",\"loudness\",\"speechiness\",\n",
        "                \"acousticness\",\"instrumentalness\",\"liveness\",\"valence\",\n",
        "                \"tempo\",\"popularity\",\"duration_ms\"]\n",
        "df.groupBy(\"is_pop\").count().show()"
      ],
      "metadata": {
        "colab": {
          "base_uri": "https://localhost:8080/"
        },
        "id": "arChbCGjTk3K",
        "outputId": "a31a3589-06dd-4a76-ad8f-4c01de91e52d"
      },
      "execution_count": 28,
      "outputs": [
        {
          "output_type": "stream",
          "name": "stdout",
          "text": [
            "+------+------+\n",
            "|is_pop| count|\n",
            "+------+------+\n",
            "|     0|113000|\n",
            "|     1|  1000|\n",
            "+------+------+\n",
            "\n"
          ]
        }
      ]
    },
    {
      "cell_type": "code",
      "source": [
        "\n",
        "\n",
        "\n",
        "fractions = {0: 1000/113000, 1: 1.0}\n",
        "balanced = df.sampleBy(\"is_pop\", fractions, seed=42)\n",
        "\n",
        "balanced.groupBy(\"is_pop\").count().show()\n",
        ""
      ],
      "metadata": {
        "colab": {
          "base_uri": "https://localhost:8080/"
        },
        "id": "8EnSeoHWVaxY",
        "outputId": "8e5211b8-16c8-496f-8845-f8a92df605a0"
      },
      "execution_count": 29,
      "outputs": [
        {
          "output_type": "stream",
          "name": "stdout",
          "text": [
            "+------+-----+\n",
            "|is_pop|count|\n",
            "+------+-----+\n",
            "|     0| 1091|\n",
            "|     1| 1000|\n",
            "+------+-----+\n",
            "\n"
          ]
        }
      ]
    },
    {
      "cell_type": "code",
      "source": [
        "train, test = balanced.randomSplit([0.7, 0.3], seed=42)\n",
        "\n",
        "indexer = StringIndexer(inputCol=\"is_pop\", outputCol=\"label\", handleInvalid=\"skip\")\n",
        "train_i = indexer.fit(train).transform(train)\n",
        "test_i  = indexer.fit(balanced).transform(test)\n",
        "\n",
        "feature_cols = [\"danceability\",\"energy\",\"loudness\",\"speechiness\",\n",
        "                \"acousticness\",\"instrumentalness\",\"liveness\",\"valence\",\n",
        "                \"tempo\",\"popularity\",\"duration_ms\"]\n",
        "\n",
        "assembler = VectorAssembler(inputCols=feature_cols, outputCol=\"features\", handleInvalid=\"skip\")\n",
        "train_ml = assembler.transform(train_i).select(\"features\",\"label\")\n",
        "test_ml  = assembler.transform(test_i).select(\"features\",\"label\")\n"
      ],
      "metadata": {
        "id": "WFmvoUc2V8tA"
      },
      "execution_count": 30,
      "outputs": []
    },
    {
      "cell_type": "code",
      "source": [
        "rf = RandomForestClassifier(featuresCol=\"features\", labelCol=\"label\",\n",
        "                            numTrees=200, maxDepth=12, featureSubsetStrategy=\"sqrt\", seed=42)\n",
        "\n",
        "model = rf.fit(train_ml)\n",
        "pred  = model.transform(test_ml)"
      ],
      "metadata": {
        "id": "KKyZjzBebAC-"
      },
      "execution_count": 31,
      "outputs": []
    },
    {
      "cell_type": "code",
      "source": [
        "acc = MulticlassClassificationEvaluator(metricName=\"accuracy\").evaluate(pred)\n",
        "f1  = MulticlassClassificationEvaluator(metricName=\"f1\").evaluate(pred)\n",
        "\n",
        "print(\"Accuracy:\", round(acc,3), \"F1:\", round(f1,3))\n"
      ],
      "metadata": {
        "colab": {
          "base_uri": "https://localhost:8080/"
        },
        "id": "qXl0fV0jbEZ5",
        "outputId": "624ffe71-4a30-4616-a5a0-b5d7e4ba17b1"
      },
      "execution_count": 32,
      "outputs": [
        {
          "output_type": "stream",
          "name": "stdout",
          "text": [
            "Accuracy: 0.891 F1: 0.891\n"
          ]
        }
      ]
    }
  ]
}